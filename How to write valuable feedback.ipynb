{
 "cells": [
  {
   "cell_type": "markdown",
   "metadata": {},
   "source": [
    "# How to write valuable feedback?\n"
   ]
  },
  {
   "cell_type": "markdown",
   "metadata": {},
   "source": [
    "### Don't expect too much. \n",
    "\n",
    "Some model solutions aren't the best possible solutions for the given problems - they are adjusted to the level of the participants. E.g. in the question below, model solution could be improved by validating the input before the int conversion.\n",
    "However, we'll cover that topic in week 4, so we don't expect participants to do it in week 2. \n",
    "\n",
    "Always look at the model solution and at the lecture slides first. "
   ]
  },
  {
   "cell_type": "markdown",
   "metadata": {},
   "source": [
    "### Question 4 (week 2)\n",
    "Write a program that asks the user for a month of the year as an integer (1 is January, etc.) and then prints out which season that month is in. \n",
    "\n",
    "Hint: In the UK, seasons are:\n",
    "- Winter - December to February (12, 1, 2)\n",
    "- Spring - March to May (3 to 5)\n",
    "- Summer - June to August (6 to 8)\n",
    "- Autumn - September to November (9 to 11)\n",
    "\n",
    "Feel free to use the seasons from any country.\n",
    "### Model solution:"
   ]
  },
  {
   "cell_type": "code",
   "execution_count": null,
   "metadata": {},
   "outputs": [],
   "source": [
    "# Get a month from user, convert to int\n",
    "month = int(input(\"Enter a month (as an integer): \"))\n",
    "\n",
    "# Check month against seasons, assumed is positive integer\n",
    "if month <= 0 or month > 12:\n",
    "    print(\"not a valid month!\")\n",
    "elif month <= 2 or month == 12:\n",
    "    print(\"Winter\")\n",
    "elif month <= 5:\n",
    "    print(\"Spring\")\n",
    "elif month <= 8:\n",
    "    print(\"Summer\")\n",
    "else:\n",
    "    print(\"Autumn\")"
   ]
  },
  {
   "cell_type": "markdown",
   "metadata": {},
   "source": [
    "### Always try to find good things about the submission.\n",
    "\n",
    "Focus not only on the mistakes, but also on the good things. Try to make the review sound positive and encouraging to continue the hard work. \n"
   ]
  },
  {
   "cell_type": "markdown",
   "metadata": {},
   "source": [
    "***"
   ]
  },
  {
   "cell_type": "markdown",
   "metadata": {},
   "source": [
    "Now let's focus on things you should include in your feedback. As an example I will use the solution below.\n"
   ]
  },
  {
   "cell_type": "markdown",
   "metadata": {},
   "source": [
    "### Question 4 (week 2)\n",
    "Write a program that asks the user for a month of the year as an integer (1 is January, etc.) and then prints out which season that month is in. \n",
    "\n",
    "Hint: In the UK, seasons are:\n",
    "- Winter - December to February (12, 1, 2)\n",
    "- Spring - March to May (3 to 5)\n",
    "- Summer - June to August (6 to 8)\n",
    "- Autumn - September to November (9 to 11)\n",
    "\n",
    "Feel free to use the seasons from any country.\n",
    "### Example solution:"
   ]
  },
  {
   "cell_type": "code",
   "execution_count": null,
   "metadata": {},
   "outputs": [],
   "source": [
    "month = int(input(\"Enter a month (as an integer): \"))\n",
    "\n",
    "if month <= 2 or month == 12:\n",
    "    print(\"Winter\")\n",
    "elif (month <= 5):\n",
    "    print(\"Spring\")\n",
    "elif month < 8:\n",
    "    print(\"Summer\")\n",
    "elif month <= 11:\n",
    "    print(\"It's an autumn\");\n",
    "else:\n",
    "    print(\"not a valid month!\")"
   ]
  },
  {
   "cell_type": "markdown",
   "metadata": {},
   "source": [
    "## 1. Correctness\n",
    "Test the given solution and check if it returns the same answers as the model one. \n",
    "\n",
    "Try to think about edge cases for each problem to make sure everything works properly. "
   ]
  },
  {
   "cell_type": "markdown",
   "metadata": {},
   "source": [
    "First, check the solution with simple cases, e.g. 3, 7, etc. They all give the correct result.\n",
    "\n",
    "Next, look at the edge cases: 2, 5, 8, 11. Input 8 gives the wrong answer.\n",
    "\n",
    "Finally let's see if the input is validated in some way. In this example, only number from 1 to 12 should return the the season so we can check the solution with numbers like: -3, 0, 13. Too big input is validated in the correct way however there is no validation for too small input. \n",
    "\n",
    "**If the solution is incorrect, always write what needs to be fixed.**\n",
    "\n",
    "### Correctness:\n",
    "\n",
    "Good job! Your solution is almost perfect. It returns the correct answers to all seasons except \"Summer\" where you should write: ` month <= 8` in the conditon. \n",
    "\n",
    "Well done that you don't accept too big input ( > 12). Try to improve your solution by not accepting too small input (<= 0)."
   ]
  },
  {
   "cell_type": "markdown",
   "metadata": {},
   "source": [
    "***"
   ]
  },
  {
   "cell_type": "markdown",
   "metadata": {},
   "source": [
    "## 2. Variables names:\n",
    "Is the code easy to read? Are names compehensive? Aren't they too short or too long? Do they describe the values the variables store? \n",
    "\n",
    "e.g. examples of good names: `month`, `month_num`\n",
    "\n",
    "examples of bad names: `m` (single characters unless they're used in a loop), `input` (keywords), `month_given_by_user` (too long), `Month` (should start with lower case), `monthNum` (not a mistake, but we use camel case convention) "
   ]
  },
  {
   "cell_type": "markdown",
   "metadata": {},
   "source": [
    "### Variables names:\n",
    "Great job! Thanks to good, comprehensive variables names, your code is easy to follow."
   ]
  },
  {
   "cell_type": "markdown",
   "metadata": {},
   "source": [
    "***"
   ]
  },
  {
   "cell_type": "markdown",
   "metadata": {},
   "source": [
    "## 3. Code Structure:\n",
    "\n",
    "Is the structure of the code correct? Is the code consistently formatted?\n",
    "\n",
    "Does the student use unnecessary characters, e.g. semicolons (`;`), too many brackets, etc.? Does the student indent the code correctly? Aren't lines too long (e.g. that you need to scroll right to see the whole code)? \n",
    "\n",
    "Does student use the same convention for naming variables? \n",
    "Does student use the correct data structures for a given problem? (more relevant from week 5)\n",
    "Doesn't student store unnecessary data? \n",
    "\n",
    "\n",
    "### Code Structure:\n",
    "Your code is mostly consistently formatted. In line: `print(\"It's an autumn\");`, semicolon is unnecessary. Also, it's not a mistake, but you print the information in a different way than in other seasons (`It's an autumn` instead of just `Autumn`). You don't write conditions in parenthesis except line: `elif (month <= 5):`. All of those are just minor inconsistencies, so well done! \n"
   ]
  },
  {
   "cell_type": "markdown",
   "metadata": {},
   "source": [
    "***"
   ]
  },
  {
   "cell_type": "markdown",
   "metadata": {},
   "source": [
    "## 4. Good Practices:\n",
    "\n",
    "Start paying attention to this in later submissions, from week 5.\n",
    "\n",
    "Do the functions have doc strings?\n",
    "Is the code free of redundant comments?\n",
    "Are all imports at the beginning of the code?"
   ]
  },
  {
   "cell_type": "markdown",
   "metadata": {},
   "source": [
    "***"
   ]
  },
  {
   "cell_type": "markdown",
   "metadata": {},
   "source": [
    "## 5. Advice:\n",
    "\n",
    "Briefly summarize what can be improved. \n",
    "\n",
    "\n",
    "### Advise:\n",
    "Make sure you write correct conditions to `if` statements. Think what input should be rejected by your program and try to implement that. Once you write the solution, check if your answers are consistent. \n"
   ]
  },
  {
   "cell_type": "markdown",
   "metadata": {},
   "source": [
    "***"
   ]
  },
  {
   "cell_type": "markdown",
   "metadata": {},
   "source": [
    "## Full feedback on the example solution:\n",
    "\n",
    "### Correctness:\n",
    "\n",
    "Good job! Your solution is almost perfect. It returns the correct answers to all seasons except \"Summer\" where you should write: ` month <= 8` in the conditon. \n",
    "Well done that you don't accept too big input ( > 12). Try to improve your solution by not accepting too small input (<= 0).\n",
    "\n",
    "\n",
    "### Variables names:\n",
    "Great job! Thanks to good, comprehensive variables names, your code is easy to follow.\n",
    "\n",
    "### Code Structure:\n",
    "Your code is mostly consistently formatted. In line: `print(\"It's an autumn\");`, semicolon is unnecessary. Also, it's not a mistake, but you print the information in a different way than in other seasons (`It's an autumn` instead of just `Autumn`). You don't write conditions in parenthesis except line: `elif (month <= 5):`. All of those are just minor inconsistencies, so well done! \n",
    "\n",
    "### Advise:\n",
    "Make sure you write correct conditions to `if` statements. Think what input should be rejected by your program and try to implement that. Once you write the solution, check if your answers are consistent.  \n"
   ]
  },
  {
   "cell_type": "markdown",
   "metadata": {},
   "source": [
    "***"
   ]
  },
  {
   "cell_type": "markdown",
   "metadata": {},
   "source": [
    "Let's have a look at another example of good feedback:\n",
    "\n",
    "### Question 2 (week 7)\n",
    "\n",
    "Write a function which, given an integer as a parameter, returns a list which contains that many random integers between 0 and 10.\n",
    "\n",
    "### Model Solution:"
   ]
  },
  {
   "cell_type": "code",
   "execution_count": null,
   "metadata": {},
   "outputs": [],
   "source": [
    "import random\n",
    "\n",
    "def random_numbers(amount):\n",
    "    ''' returns a list of random numbers'''\n",
    "    nums = []\n",
    "    for i in range(amount):\n",
    "        nums.append(random.randint(0, 10))\n",
    "        \n",
    "    return nums\n",
    "\n",
    "print(random_numbers(4))"
   ]
  },
  {
   "cell_type": "markdown",
   "metadata": {},
   "source": [
    "### Example solution:"
   ]
  },
  {
   "cell_type": "code",
   "execution_count": null,
   "metadata": {},
   "outputs": [],
   "source": [
    "import random\n",
    "\n",
    "def random_numbers(a):\n",
    "    nums = set()\n",
    "    for i in range(a):\n",
    "        nums.add(random.randint(1, 10))\n",
    "        \n",
    "    return nums\n",
    "\n",
    "print(random_numbers(5))"
   ]
  },
  {
   "cell_type": "markdown",
   "metadata": {},
   "source": [
    "### Correctness:\n",
    "It doesn't return the correct answer, because you used set (instead of a list) which doesn't accept the duplicates. Hence sometimes your code returns less numbers than it should. Change line `nums = set()` to `nums = []`.\n",
    "You return number between 1 and 10 instead of 0 - 10. \n",
    "\n",
    "### Variables names:\n",
    "Good work! All of the names you used are comprehensive enough except the parameter `a`. You could consider changing it to `amount`, `length`, etc.\n",
    "\n",
    "### Code Structure:\n",
    "You code is consistently formatted, well done! Good job with correct usage of `for` loop and `randint` function. \n",
    "\n",
    "### Good practices:\n",
    "You imported modules in the right place, good job. Consider adding docstring at the beginning of the function.\n",
    "\n",
    "### Advise:\n",
    "Pay attention to using appropriate data structure for a given problem. Try to use the same convention for all variables names in your program. Once you write your code, read carefully the requirements and test your code with sample input. Consider adding comments where code is unclear. "
   ]
  },
  {
   "cell_type": "markdown",
   "metadata": {},
   "source": [
    "***"
   ]
  },
  {
   "cell_type": "markdown",
   "metadata": {},
   "source": [
    "# Exercise: write feedback for this solution"
   ]
  },
  {
   "cell_type": "markdown",
   "metadata": {},
   "source": [
    "### Question 5 (week 7)\n",
    "\n",
    "Write function `iris_data` which reads in the file `iris.csv`, which is a dictionary csv in the format:\n",
    "\n",
    "    sepal.length, sepal.width, petal.length, petal.width, variety\n",
    "    \n",
    "This is data from a study on iris flowers, however we only are interested in using the values. Once you have read in the file you should have a list of dictionaries, where each dictionary is a single line from the csv file. Using this, calulate the mean, median and mode of the `sepal.width` property and print them out.\n",
    "\n",
    "For this problem, make sure to use the [csv](https://docs.python.org/3/library/csv.html]) and [statistics](https://docs.python.org/3/library/statistics.html) modules.\n",
    "\n",
    "### Model solution:"
   ]
  },
  {
   "cell_type": "code",
   "execution_count": null,
   "metadata": {},
   "outputs": [],
   "source": [
    "import csv\n",
    "import statistics\n",
    "\n",
    "def iris_data():\n",
    "    ''' calulates the mean, median and mode of the sepal.width property from iris.csv file'''\n",
    "    widths = []\n",
    "\n",
    "    with open(\"iris.csv\") as csv_file:\n",
    "        csv_reader = csv.DictReader(csv_file)\n",
    "        for row in csv_reader:\n",
    "            widths.append(float(row['sepal.width']))                  \n",
    "\n",
    "    print(\"Mean: \", statistics.mean(widths))\n",
    "    print(\"Median: \", statistics.median(widths))\n",
    "    print(\"Mode: \", statistics.mode(widths))\n",
    "    \n",
    "iris_data()"
   ]
  },
  {
   "cell_type": "markdown",
   "metadata": {},
   "source": [
    "### Example solution:"
   ]
  },
  {
   "cell_type": "code",
   "execution_count": null,
   "metadata": {},
   "outputs": [],
   "source": [
    "nums = []\n",
    "\n",
    "iris = open(\"iris.csv\")\n",
    "\n",
    "import csv\n",
    "csv_reader = csv.DictReader(iris)\n",
    "for row in csv_reader:\n",
    "    nums.append(float(row['petal.width']))\n",
    "        \n",
    "import statistics          \n",
    "print(\"Mean: \", sum(nums)/len(nums))\n",
    "print(\"Median: \", statistics.median(nums))\n",
    "print(\"Mode: \", statistics.mode(nums))"
   ]
  },
  {
   "cell_type": "markdown",
   "metadata": {},
   "source": [
    "### Correctness:\n",
    "Type here...\n",
    "\n",
    "### Variables names:\n",
    "Type here...\n",
    "\n",
    "\n",
    "### Code Structure:\n",
    "Type here...\n",
    "\n",
    "\n",
    "### Good practices:\n",
    "Type here...\n",
    "\n",
    "\n",
    "### Advise:\n",
    "Type here...\n"
   ]
  },
  {
   "cell_type": "markdown",
   "metadata": {},
   "source": [
    "***"
   ]
  },
  {
   "cell_type": "markdown",
   "metadata": {},
   "source": [
    "# Note:\n",
    "Feedback I provided is based only on 1 exercise. Each week students solve around 5 exercises, you're not expected to write detailed feedback for all of them. For each solution, write 'correctness' section. At the end, based on all the 5 solutions, write 'variables names', 'code structure', 'good practices' and 'advise' sections. So it should look like that:\n",
    "\n",
    "## Detailed feedback:\n",
    "### Exercise 1:\n",
    "Write about correctness\n",
    "\n",
    "### Exercise 2:\n",
    "Write about correctness\n",
    "\n",
    "### Exercise 3:\n",
    "Write about correctness\n",
    "\n",
    "### Exercise 4:\n",
    "Write about correctness\n",
    "\n",
    "### Exercise 5:\n",
    "Write about correctness\n",
    "\n",
    "## General feedback:\n",
    "\n",
    "### Variable names\n",
    "Based on all exercises, comment variable names used by a student\n",
    "\n",
    "### Code Structure\n",
    "Based on all exercises, write about code structure\n",
    "\n",
    "### Good Practices\n",
    "(from week 5) Based on all exercises, comment if student follow good practices\n",
    "\n",
    "### Advice\n",
    "Write what student could improve. Check if the student makes the same mistake in every exercise. "
   ]
  }
 ],
 "metadata": {
  "kernelspec": {
   "display_name": "Python 3",
   "language": "python",
   "name": "python3"
  },
  "language_info": {
   "codemirror_mode": {
    "name": "ipython",
    "version": 3
   },
   "file_extension": ".py",
   "mimetype": "text/x-python",
   "name": "python",
   "nbconvert_exporter": "python",
   "pygments_lexer": "ipython3",
   "version": "3.7.4"
  }
 },
 "nbformat": 4,
 "nbformat_minor": 2
}
